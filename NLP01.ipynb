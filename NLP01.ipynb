{
  "nbformat": 4,
  "nbformat_minor": 0,
  "metadata": {
    "colab": {
      "name": "NLP01.ipynb",
      "provenance": []
    },
    "kernelspec": {
      "name": "python3",
      "display_name": "Python 3"
    }
  },
  "cells": [
    {
      "cell_type": "code",
      "metadata": {
        "id": "Rb1K72sX0Ui5",
        "colab_type": "code",
        "colab": {}
      },
      "source": [
        "#!pip install PyPDF2"
      ],
      "execution_count": 0,
      "outputs": []
    },
    {
      "cell_type": "code",
      "metadata": {
        "id": "JWlCF61n-7WB",
        "colab_type": "code",
        "colab": {}
      },
      "source": [
        ""
      ],
      "execution_count": 0,
      "outputs": []
    },
    {
      "cell_type": "markdown",
      "metadata": {
        "id": "5Mn_HAyZ-8D9",
        "colab_type": "text"
      },
      "source": [
        "**Reading PDF**"
      ]
    },
    {
      "cell_type": "code",
      "metadata": {
        "id": "w3BllKwH7KBw",
        "colab_type": "code",
        "colab": {}
      },
      "source": [
        "import PyPDF2"
      ],
      "execution_count": 0,
      "outputs": []
    },
    {
      "cell_type": "code",
      "metadata": {
        "id": "CP8ugvqG7UfP",
        "colab_type": "code",
        "colab": {}
      },
      "source": [
        "myfile=open('/content/Allu_Prasad (2).pdf',mode='rb')"
      ],
      "execution_count": 0,
      "outputs": []
    },
    {
      "cell_type": "code",
      "metadata": {
        "id": "wLzZhsI-_BcI",
        "colab_type": "code",
        "colab": {}
      },
      "source": [
        ""
      ],
      "execution_count": 0,
      "outputs": []
    },
    {
      "cell_type": "code",
      "metadata": {
        "id": "sDvIMtRA7lTT",
        "colab_type": "code",
        "colab": {}
      },
      "source": [
        "pdf_reader=PyPDF2.PdfFileReader(myfile)"
      ],
      "execution_count": 0,
      "outputs": []
    },
    {
      "cell_type": "code",
      "metadata": {
        "id": "YQRc9u7_7x4f",
        "colab_type": "code",
        "colab": {
          "base_uri": "https://localhost:8080/",
          "height": 35
        },
        "outputId": "f76ced8a-7c3f-41d0-c166-d2a092ae9865"
      },
      "source": [
        "pdf_reader.numPages"
      ],
      "execution_count": 11,
      "outputs": [
        {
          "output_type": "execute_result",
          "data": {
            "text/plain": [
              "3"
            ]
          },
          "metadata": {
            "tags": []
          },
          "execution_count": 11
        }
      ]
    },
    {
      "cell_type": "code",
      "metadata": {
        "id": "z2fHUz5N756I",
        "colab_type": "code",
        "colab": {
          "base_uri": "https://localhost:8080/",
          "height": 963
        },
        "outputId": "cbf71871-0453-43d0-8322-c857937482a6"
      },
      "source": [
        "print(pdf_reader.getPage(2).extractText())"
      ],
      "execution_count": 18,
      "outputs": [
        {
          "output_type": "stream",
          "text": [
            "\n",
            " \n",
            "Got Merit certificate for \n",
            "exhibiting Model\n",
            " \n",
            "of Blast Furnace life depends on water cooling \n",
            "\n",
            "\n",
            " \n",
            "by RGUKT \n",
            "\n",
            " \n",
            "IIIT\n",
            " \n",
            "\n",
            " \n",
            "\n",
            "\n",
            " \n",
            "\n",
            "RGUKT \n",
            "IIIT\n",
            ".\n",
            " \n",
            " \n",
            "Declaration\n",
            " \n",
            " \n",
            " \n",
            "It is hereby declared that the above mentioned information is correct up to my knowledge \n",
            "and I \n",
            "bear\n",
            " \n",
            "theresponsibility for the correctness of the above mentioned particulars.\n",
            " \n",
            " \n",
            "Place:\n",
            " \n",
            " \n",
            " \n",
            " \n",
            " \n",
            " \n",
            " \n",
            " \n",
            " \n",
            "Signature:\n",
            " \n",
            "Date: \n",
            " \n",
            " \n",
            "\n"
          ],
          "name": "stdout"
        }
      ]
    },
    {
      "cell_type": "code",
      "metadata": {
        "id": "JFj0GUaO_C0c",
        "colab_type": "code",
        "colab": {}
      },
      "source": [
        ""
      ],
      "execution_count": 0,
      "outputs": []
    },
    {
      "cell_type": "markdown",
      "metadata": {
        "id": "mVm4_Ep7_GUY",
        "colab_type": "text"
      },
      "source": [
        "**REGULAR EXPRESSION**"
      ]
    },
    {
      "cell_type": "code",
      "metadata": {
        "id": "t5cpBX77_KVh",
        "colab_type": "code",
        "colab": {}
      },
      "source": [
        "txt='this is my phone number.85-0050-30-855-555-9'\n"
      ],
      "execution_count": 0,
      "outputs": []
    },
    {
      "cell_type": "code",
      "metadata": {
        "id": "YJh-qLV9_79N",
        "colab_type": "code",
        "colab": {
          "base_uri": "https://localhost:8080/",
          "height": 35
        },
        "outputId": "2db09793-f36f-4ade-de9c-24b7ba21e590"
      },
      "source": [
        "'my' in txt"
      ],
      "execution_count": 22,
      "outputs": [
        {
          "output_type": "execute_result",
          "data": {
            "text/plain": [
              "True"
            ]
          },
          "metadata": {
            "tags": []
          },
          "execution_count": 22
        }
      ]
    },
    {
      "cell_type": "code",
      "metadata": {
        "id": "PCd-Q2y9_9RQ",
        "colab_type": "code",
        "colab": {}
      },
      "source": [
        "import re"
      ],
      "execution_count": 0,
      "outputs": []
    },
    {
      "cell_type": "code",
      "metadata": {
        "id": "OYt2ORXp_-8_",
        "colab_type": "code",
        "colab": {}
      },
      "source": [
        "match=re.search('phone',txt)"
      ],
      "execution_count": 0,
      "outputs": []
    },
    {
      "cell_type": "code",
      "metadata": {
        "id": "Y9KDGIBv_KRg",
        "colab_type": "code",
        "colab": {
          "base_uri": "https://localhost:8080/",
          "height": 35
        },
        "outputId": "eb640f23-6b74-48cf-df53-49b8e128914e"
      },
      "source": [
        "match.span()"
      ],
      "execution_count": 26,
      "outputs": [
        {
          "output_type": "execute_result",
          "data": {
            "text/plain": [
              "(11, 16)"
            ]
          },
          "metadata": {
            "tags": []
          },
          "execution_count": 26
        }
      ]
    },
    {
      "cell_type": "code",
      "metadata": {
        "id": "i8MdfTWCAfGb",
        "colab_type": "code",
        "colab": {}
      },
      "source": [
        "txt1='this phone is my phone number 85-555'\n"
      ],
      "execution_count": 0,
      "outputs": []
    },
    {
      "cell_type": "code",
      "metadata": {
        "id": "qw9Guex9Ajvw",
        "colab_type": "code",
        "colab": {
          "base_uri": "https://localhost:8080/",
          "height": 35
        },
        "outputId": "251c7b22-fd5b-4e76-ffc5-235db4249d6e"
      },
      "source": [
        "re.findall('phone',txt1)"
      ],
      "execution_count": 28,
      "outputs": [
        {
          "output_type": "execute_result",
          "data": {
            "text/plain": [
              "['phone', 'phone']"
            ]
          },
          "metadata": {
            "tags": []
          },
          "execution_count": 28
        }
      ]
    },
    {
      "cell_type": "code",
      "metadata": {
        "id": "5pPvMKL-A8pR",
        "colab_type": "code",
        "colab": {
          "base_uri": "https://localhost:8080/",
          "height": 54
        },
        "outputId": "2469a406-b9b4-4e30-c2e7-547ef71a9fdb"
      },
      "source": [
        "mat=re.findall('phone',txt1)\n",
        "for i in re.finditer('phone',txt1):\n",
        "  print (i.span())\n"
      ],
      "execution_count": 33,
      "outputs": [
        {
          "output_type": "stream",
          "text": [
            "(5, 10)\n",
            "(17, 22)\n"
          ],
          "name": "stdout"
        }
      ]
    },
    {
      "cell_type": "code",
      "metadata": {
        "id": "S266PFg7Bote",
        "colab_type": "code",
        "colab": {}
      },
      "source": [
        "#patt= r'\\d\\d-\\d\\d\\d'\n",
        "patt=r'\\d{2}-\\d{3}'"
      ],
      "execution_count": 0,
      "outputs": []
    },
    {
      "cell_type": "code",
      "metadata": {
        "id": "ByDrUOlRDD27",
        "colab_type": "code",
        "colab": {}
      },
      "source": [
        "numb=re.search(patt,txt1)"
      ],
      "execution_count": 0,
      "outputs": []
    },
    {
      "cell_type": "code",
      "metadata": {
        "id": "Pv1HXKuzDNap",
        "colab_type": "code",
        "colab": {
          "base_uri": "https://localhost:8080/",
          "height": 35
        },
        "outputId": "c7ea2dfe-335a-425a-c5f7-a307251ff93d"
      },
      "source": [
        "numb.group()"
      ],
      "execution_count": 64,
      "outputs": [
        {
          "output_type": "execute_result",
          "data": {
            "text/plain": [
              "'85-555'"
            ]
          },
          "metadata": {
            "tags": []
          },
          "execution_count": 64
        }
      ]
    },
    {
      "cell_type": "code",
      "metadata": {
        "id": "6wNd5NeIIAel",
        "colab_type": "code",
        "colab": {
          "base_uri": "https://localhost:8080/",
          "height": 35
        },
        "outputId": "34a99872-2a60-4161-9756-118ee71b429b"
      },
      "source": [
        "re.findall(r'.m', 'ma an  s sm mm')"
      ],
      "execution_count": 68,
      "outputs": [
        {
          "output_type": "execute_result",
          "data": {
            "text/plain": [
              "['sm', ' m']"
            ]
          },
          "metadata": {
            "tags": []
          },
          "execution_count": 68
        }
      ]
    },
    {
      "cell_type": "code",
      "metadata": {
        "id": "s-SMUsUcJcFD",
        "colab_type": "code",
        "colab": {}
      },
      "source": [
        "sen= '3 this is 1 and 2 and 33'"
      ],
      "execution_count": 0,
      "outputs": []
    },
    {
      "cell_type": "code",
      "metadata": {
        "id": "beYO8XPeJg_C",
        "colab_type": "code",
        "colab": {
          "base_uri": "https://localhost:8080/",
          "height": 35
        },
        "outputId": "3f316c38-2bce-4c93-9095-094af462e33e"
      },
      "source": [
        "re.findall(r\"^\\d\",sen)"
      ],
      "execution_count": 79,
      "outputs": [
        {
          "output_type": "execute_result",
          "data": {
            "text/plain": [
              "['3']"
            ]
          },
          "metadata": {
            "tags": []
          },
          "execution_count": 79
        }
      ]
    },
    {
      "cell_type": "code",
      "metadata": {
        "id": "MfEDXbt9KZkO",
        "colab_type": "code",
        "colab": {
          "base_uri": "https://localhost:8080/",
          "height": 35
        },
        "outputId": "b7e0a59c-2bf7-4268-ec8f-d36f44cca0ff"
      },
      "source": [
        "re.findall(r\"\\d{2}$\",sen)"
      ],
      "execution_count": 81,
      "outputs": [
        {
          "output_type": "execute_result",
          "data": {
            "text/plain": [
              "['33']"
            ]
          },
          "metadata": {
            "tags": []
          },
          "execution_count": 81
        }
      ]
    },
    {
      "cell_type": "code",
      "metadata": {
        "id": "s7h_4A0wKgWP",
        "colab_type": "code",
        "colab": {
          "base_uri": "https://localhost:8080/",
          "height": 363
        },
        "outputId": "4cdbe9a0-2275-4d14-c4b5-5bbf854b06d8"
      },
      "source": [
        "re.findall(r\"[^\\d]\",sen)"
      ],
      "execution_count": 85,
      "outputs": [
        {
          "output_type": "execute_result",
          "data": {
            "text/plain": [
              "[' ',\n",
              " 't',\n",
              " 'h',\n",
              " 'i',\n",
              " 's',\n",
              " ' ',\n",
              " 'i',\n",
              " 's',\n",
              " ' ',\n",
              " ' ',\n",
              " 'a',\n",
              " 'n',\n",
              " 'd',\n",
              " ' ',\n",
              " ' ',\n",
              " 'a',\n",
              " 'n',\n",
              " 'd',\n",
              " ' ']"
            ]
          },
          "metadata": {
            "tags": []
          },
          "execution_count": 85
        }
      ]
    },
    {
      "cell_type": "code",
      "metadata": {
        "id": "GB3afDrlK-me",
        "colab_type": "code",
        "colab": {
          "base_uri": "https://localhost:8080/",
          "height": 35
        },
        "outputId": "5b074a4a-55e6-4e9e-85ff-9e0c618ce789"
      },
      "source": [
        "re.findall(r\"[^\\d]+\",sen)"
      ],
      "execution_count": 86,
      "outputs": [
        {
          "output_type": "execute_result",
          "data": {
            "text/plain": [
              "[' this is ', ' and ', ' and ']"
            ]
          },
          "metadata": {
            "tags": []
          },
          "execution_count": 86
        }
      ]
    },
    {
      "cell_type": "code",
      "metadata": {
        "id": "_CVsvqLLLVTB",
        "colab_type": "code",
        "colab": {}
      },
      "source": [
        "rmw=re.findall(r\"[^\\d]+\",sen)"
      ],
      "execution_count": 0,
      "outputs": []
    },
    {
      "cell_type": "code",
      "metadata": {
        "id": "E3OSGNd_LX_6",
        "colab_type": "code",
        "colab": {
          "base_uri": "https://localhost:8080/",
          "height": 35
        },
        "outputId": "4bf85c84-ddb2-41be-eb9e-98dc69b5b16d"
      },
      "source": [
        "''.join(rmw)"
      ],
      "execution_count": 92,
      "outputs": [
        {
          "output_type": "execute_result",
          "data": {
            "text/plain": [
              "' this is  and  and '"
            ]
          },
          "metadata": {
            "tags": []
          },
          "execution_count": 92
        }
      ]
    },
    {
      "cell_type": "code",
      "metadata": {
        "id": "WrM5pXYfKvJh",
        "colab_type": "code",
        "colab": {}
      },
      "source": [
        ""
      ],
      "execution_count": 0,
      "outputs": []
    }
  ]
}